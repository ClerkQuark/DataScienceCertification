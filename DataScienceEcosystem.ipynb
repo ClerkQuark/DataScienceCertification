{
 "cells": [
  {
   "cell_type": "markdown",
   "id": "b86efc28-25fa-4d82-b5c2-766912afee9f",
   "metadata": {},
   "source": [
    "# Data Science Tools and Ecosystem"
   ]
  },
  {
   "cell_type": "markdown",
   "id": "6e976c6b-4d33-4489-bbe2-1b2b6013a3c6",
   "metadata": {},
   "source": [
    "In this notebook, Data Science Tools and Ecosystem are summarized."
   ]
  },
  {
   "cell_type": "markdown",
   "id": "adb7d953-14ec-459c-86c1-88c37b41d40c",
   "metadata": {},
   "source": [
    "Some of the popular languages that Data Scientists use are:\n",
    "1. Python\n",
    "2. R\n",
    "3. SQL"
   ]
  },
  {
   "cell_type": "markdown",
   "id": "1cb3eed2-bf61-4c0e-aebc-fba9871b3ef7",
   "metadata": {},
   "source": [
    "**Objectives:**\n",
    "- List popular languages for Data Science\n",
    "- Data science libraries\n",
    "- Data Science tools"
   ]
  },
  {
   "cell_type": "markdown",
   "id": "e3d87eaa-2e14-4bf2-8c51-db45ce96d2fa",
   "metadata": {},
   "source": [
    "Some of the commonly used libraries used by Data Scientists include:\n",
    "1. Matplotlib\n",
    "2. Numpy\n",
    "3. Pandas"
   ]
  },
  {
   "cell_type": "markdown",
   "id": "f93f24ad-a073-4cb4-b776-c88008cbe283",
   "metadata": {},
   "source": [
    "| Data Science Tools |\n",
    "| :- | \n",
    "| RStudio | \n",
    "| Apache Spark | \n",
    "| Apache Hadoop | "
   ]
  },
  {
   "cell_type": "markdown",
   "id": "99f4bc2b-0766-4dba-881d-8f4a7626e6e2",
   "metadata": {},
   "source": [
    "### Below are a few examples of evaluating arithmetic expressions in Python"
   ]
  },
  {
   "cell_type": "code",
   "execution_count": 1,
   "id": "bdcf5971-cefa-4f9d-91b9-5fbb8c01611b",
   "metadata": {},
   "outputs": [
    {
     "data": {
      "text/plain": [
       "17"
      ]
     },
     "execution_count": 1,
     "metadata": {},
     "output_type": "execute_result"
    }
   ],
   "source": [
    "# This a simple arithmetic expression to mutiply then add integers\n",
    "(3*4)+5"
   ]
  },
  {
   "cell_type": "code",
   "execution_count": 3,
   "id": "6439273b-3cc4-4051-beb3-f90dad8dbad8",
   "metadata": {},
   "outputs": [
    {
     "name": "stdout",
     "output_type": "stream",
     "text": [
      "3.3333333333333335 hours\n"
     ]
    }
   ],
   "source": [
    "# This will convert 200 minutes to hours by diving by 60\n",
    "minutes = 200\n",
    "def to_hours(a):\n",
    "    return print(a/60, \"hours\")\n",
    "to_hours(minutes)"
   ]
  },
  {
   "cell_type": "markdown",
   "id": "45bbc96f-a772-4677-a4c0-7b58f0a43729",
   "metadata": {},
   "source": [
    "## Autor \n",
    "Josue David Castillo Araiza"
   ]
  },
  {
   "cell_type": "code",
   "execution_count": null,
   "id": "21c6bc17-29e1-4f5f-8d6c-86d90ce7a0a1",
   "metadata": {},
   "outputs": [],
   "source": []
  }
 ],
 "metadata": {
  "kernelspec": {
   "display_name": "Python",
   "language": "python",
   "name": "conda-env-python-py"
  },
  "language_info": {
   "codemirror_mode": {
    "name": "ipython",
    "version": 3
   },
   "file_extension": ".py",
   "mimetype": "text/x-python",
   "name": "python",
   "nbconvert_exporter": "python",
   "pygments_lexer": "ipython3",
   "version": "3.7.12"
  }
 },
 "nbformat": 4,
 "nbformat_minor": 5
}
